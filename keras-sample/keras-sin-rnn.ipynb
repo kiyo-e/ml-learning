{
 "cells": [
  {
   "cell_type": "code",
   "execution_count": 1,
   "metadata": {
    "scrolled": true
   },
   "outputs": [
    {
     "name": "stderr",
     "output_type": "stream",
     "text": [
      "Using TensorFlow backend.\n"
     ]
    }
   ],
   "source": [
    "import numpy as np\n",
    "import matplotlib.pyplot as plt\n",
    "from keras.models import Sequential\n",
    "from keras.layers import Dense, Activation\n",
    "from keras.layers.recurrent import SimpleRNN\n",
    "from keras.optimizers import Adam\n",
    "from keras.callbacks import EarlyStopping\n",
    "from sklearn.model_selection import train_test_split\n",
    "from sklearn.utils import shuffle\n",
    "\n",
    "np.random.seed(0)"
   ]
  },
  {
   "cell_type": "code",
   "execution_count": 2,
   "metadata": {},
   "outputs": [],
   "source": [
    "# sin波作成\n",
    "def sin(x, T=100):\n",
    "      return np.sin(2.0 * np.pi * x / T) "
   ]
  },
  {
   "cell_type": "code",
   "execution_count": 3,
   "metadata": {
    "collapsed": true
   },
   "outputs": [],
   "source": [
    "# ノイズ化\n",
    "def toy_problem(T=100, ampl=0.05):\n",
    "    x = np.arange(0, 2 * T + 1)\n",
    "    noise = ampl * np.random.uniform(low=1.0, high=1.0, size=len(x))\n",
    "    return sin(x) + noise"
   ]
  },
  {
   "cell_type": "code",
   "execution_count": 4,
   "metadata": {},
   "outputs": [],
   "source": [
    "T = 100\n",
    "f = toy_problem(T)"
   ]
  },
  {
   "cell_type": "code",
   "execution_count": 5,
   "metadata": {
    "collapsed": true
   },
   "outputs": [],
   "source": [
    "length_of_sequences = 2 * T\n",
    "maxlen = 25"
   ]
  },
  {
   "cell_type": "code",
   "execution_count": 6,
   "metadata": {
    "collapsed": true
   },
   "outputs": [],
   "source": [
    "data = []\n",
    "target = []"
   ]
  },
  {
   "cell_type": "code",
   "execution_count": 7,
   "metadata": {},
   "outputs": [],
   "source": [
    "for i in range(0, length_of_sequences - maxlen + 1):\n",
    "    data.append(f[i: i + maxlen])\n",
    "    target.append(f[i + maxlen])\n"
   ]
  },
  {
   "cell_type": "code",
   "execution_count": 8,
   "metadata": {
    "collapsed": true
   },
   "outputs": [],
   "source": [
    "X = np.array(data).reshape(len(data), maxlen, 1)\n",
    "Y = np.array(target).reshape(len(data), 1)"
   ]
  },
  {
   "cell_type": "code",
   "execution_count": 9,
   "metadata": {
    "collapsed": true
   },
   "outputs": [],
   "source": [
    "N_train = int(len(data) * 0.9)\n",
    "N_validation = len(data) - N_train"
   ]
  },
  {
   "cell_type": "code",
   "execution_count": 10,
   "metadata": {},
   "outputs": [
    {
     "name": "stdout",
     "output_type": "stream",
     "text": [
      "(176, 25, 1)\n",
      "(176, 1)\n"
     ]
    }
   ],
   "source": [
    "print(X.shape)\n",
    "print(Y.shape)"
   ]
  },
  {
   "cell_type": "code",
   "execution_count": 11,
   "metadata": {},
   "outputs": [
    {
     "name": "stdout",
     "output_type": "stream",
     "text": [
      "176\n",
      "158\n",
      "18\n"
     ]
    }
   ],
   "source": [
    "print(len(data) )\n",
    "print(N_train)\n",
    "print(N_validation)"
   ]
  },
  {
   "cell_type": "code",
   "execution_count": 12,
   "metadata": {
    "collapsed": true
   },
   "outputs": [],
   "source": [
    "X_train, X_validation, Y_train, Y_validation = \\\n",
    "    train_test_split(X, Y, test_size=N_validation)"
   ]
  },
  {
   "cell_type": "code",
   "execution_count": 13,
   "metadata": {
    "collapsed": true
   },
   "outputs": [],
   "source": [
    "n_in = len(X[0][0])\n",
    "n_hidden = 20\n",
    "n_out = len(Y[0])"
   ]
  },
  {
   "cell_type": "code",
   "execution_count": 14,
   "metadata": {},
   "outputs": [
    {
     "name": "stdout",
     "output_type": "stream",
     "text": [
      "1\n",
      "1\n"
     ]
    }
   ],
   "source": [
    "print(n_in)\n",
    "print(n_out)"
   ]
  },
  {
   "cell_type": "code",
   "execution_count": 15,
   "metadata": {
    "collapsed": true
   },
   "outputs": [],
   "source": [
    "def weight_variable(shape, name=None):\n",
    "    return np.random.normal(scale=.01, size=shape)"
   ]
  },
  {
   "cell_type": "code",
   "execution_count": 16,
   "metadata": {},
   "outputs": [],
   "source": [
    "early_stopping = EarlyStopping(monitor='val_loss', patience=10, verbose=1)\n",
    "\n"
   ]
  },
  {
   "cell_type": "code",
   "execution_count": 17,
   "metadata": {},
   "outputs": [],
   "source": [
    "model = Sequential()\n",
    "model.add(SimpleRNN(n_hidden,\n",
    "                   kernel_initializer=weight_variable,\n",
    "                   input_shape=(maxlen, n_in)))\n",
    "model.add(Dense(n_out, kernel_initializer=weight_variable))\n",
    "model.add(Activation(\"linear\"))\n",
    "\n"
   ]
  },
  {
   "cell_type": "code",
   "execution_count": 18,
   "metadata": {
    "collapsed": true
   },
   "outputs": [],
   "source": [
    "optimizer = Adam(lr=0.001, beta_1=0.9, beta_2=0.999)"
   ]
  },
  {
   "cell_type": "code",
   "execution_count": 19,
   "metadata": {
    "collapsed": true
   },
   "outputs": [],
   "source": [
    "model.compile(loss='mean_squared_error',\n",
    "              optimizer=optimizer)\n"
   ]
  },
  {
   "cell_type": "code",
   "execution_count": 20,
   "metadata": {
    "collapsed": true
   },
   "outputs": [],
   "source": [
    "epochs = 500\n",
    "batch_size= 10\n"
   ]
  },
  {
   "cell_type": "code",
   "execution_count": 21,
   "metadata": {},
   "outputs": [
    {
     "name": "stdout",
     "output_type": "stream",
     "text": [
      "Train on 158 samples, validate on 18 samples\n",
      "Epoch 1/500\n",
      "158/158 [==============================] - 0s - loss: 0.4931 - val_loss: 0.3785\n",
      "Epoch 2/500\n",
      "158/158 [==============================] - 0s - loss: 0.3906 - val_loss: 0.2563\n",
      "Epoch 3/500\n",
      "158/158 [==============================] - 0s - loss: 0.2164 - val_loss: 0.0888\n",
      "Epoch 4/500\n",
      "158/158 [==============================] - 0s - loss: 0.0843 - val_loss: 0.0458\n",
      "Epoch 5/500\n",
      "158/158 [==============================] - 0s - loss: 0.0636 - val_loss: 0.0516\n",
      "Epoch 6/500\n",
      "158/158 [==============================] - 0s - loss: 0.0455 - val_loss: 0.0381\n",
      "Epoch 7/500\n",
      "158/158 [==============================] - 0s - loss: 0.0340 - val_loss: 0.0291\n",
      "Epoch 8/500\n",
      "158/158 [==============================] - 0s - loss: 0.0324 - val_loss: 0.0281\n",
      "Epoch 9/500\n",
      "158/158 [==============================] - 0s - loss: 0.0256 - val_loss: 0.0230\n",
      "Epoch 10/500\n",
      "158/158 [==============================] - 0s - loss: 0.0185 - val_loss: 0.0223\n",
      "Epoch 11/500\n",
      "158/158 [==============================] - 0s - loss: 0.0147 - val_loss: 0.0197\n",
      "Epoch 12/500\n",
      "158/158 [==============================] - 0s - loss: 0.0138 - val_loss: 0.0093\n",
      "Epoch 13/500\n",
      "158/158 [==============================] - 0s - loss: 0.0114 - val_loss: 0.0095\n",
      "Epoch 14/500\n",
      "158/158 [==============================] - 0s - loss: 0.0098 - val_loss: 0.0091\n",
      "Epoch 15/500\n",
      "158/158 [==============================] - 0s - loss: 0.0063 - val_loss: 0.0089\n",
      "Epoch 16/500\n",
      "158/158 [==============================] - 0s - loss: 0.0055 - val_loss: 0.0061\n",
      "Epoch 17/500\n",
      "158/158 [==============================] - 0s - loss: 0.0052 - val_loss: 0.0058\n",
      "Epoch 18/500\n",
      "158/158 [==============================] - 0s - loss: 0.0046 - val_loss: 0.0048\n",
      "Epoch 19/500\n",
      "158/158 [==============================] - 0s - loss: 0.0043 - val_loss: 0.0041\n",
      "Epoch 20/500\n",
      "158/158 [==============================] - 0s - loss: 0.0039 - val_loss: 0.0037\n",
      "Epoch 21/500\n",
      "158/158 [==============================] - 0s - loss: 0.0038 - val_loss: 0.0034\n",
      "Epoch 22/500\n",
      "158/158 [==============================] - 0s - loss: 0.0034 - val_loss: 0.0032\n",
      "Epoch 23/500\n",
      "158/158 [==============================] - 0s - loss: 0.0030 - val_loss: 0.0046\n",
      "Epoch 24/500\n",
      "158/158 [==============================] - 0s - loss: 0.0040 - val_loss: 0.0028\n",
      "Epoch 25/500\n",
      "158/158 [==============================] - 0s - loss: 0.0030 - val_loss: 0.0024\n",
      "Epoch 26/500\n",
      "158/158 [==============================] - 0s - loss: 0.0026 - val_loss: 0.0032\n",
      "Epoch 27/500\n",
      "158/158 [==============================] - 0s - loss: 0.0027 - val_loss: 0.0022\n",
      "Epoch 28/500\n",
      "158/158 [==============================] - 0s - loss: 0.0024 - val_loss: 0.0022\n",
      "Epoch 29/500\n",
      "158/158 [==============================] - 0s - loss: 0.0021 - val_loss: 0.0023\n",
      "Epoch 30/500\n",
      "158/158 [==============================] - 0s - loss: 0.0020 - val_loss: 0.0017\n",
      "Epoch 31/500\n",
      "158/158 [==============================] - 0s - loss: 0.0019 - val_loss: 0.0016\n",
      "Epoch 32/500\n",
      "158/158 [==============================] - 0s - loss: 0.0017 - val_loss: 0.0013\n",
      "Epoch 33/500\n",
      "158/158 [==============================] - 0s - loss: 0.0016 - val_loss: 0.0014\n",
      "Epoch 34/500\n",
      "158/158 [==============================] - 0s - loss: 0.0013 - val_loss: 9.5730e-04\n",
      "Epoch 35/500\n",
      "158/158 [==============================] - 0s - loss: 0.0012 - val_loss: 0.0012\n",
      "Epoch 36/500\n",
      "158/158 [==============================] - 0s - loss: 0.0011 - val_loss: 7.9933e-04\n",
      "Epoch 37/500\n",
      "158/158 [==============================] - 0s - loss: 9.8612e-04 - val_loss: 7.3608e-04\n",
      "Epoch 38/500\n",
      "158/158 [==============================] - 0s - loss: 9.0037e-04 - val_loss: 6.7767e-04\n",
      "Epoch 39/500\n",
      "158/158 [==============================] - 0s - loss: 8.4287e-04 - val_loss: 8.0670e-04\n",
      "Epoch 40/500\n",
      "158/158 [==============================] - 0s - loss: 7.1870e-04 - val_loss: 6.1063e-04\n",
      "Epoch 41/500\n",
      "158/158 [==============================] - 0s - loss: 7.1245e-04 - val_loss: 5.1330e-04\n",
      "Epoch 42/500\n",
      "158/158 [==============================] - 0s - loss: 6.7508e-04 - val_loss: 5.9240e-04\n",
      "Epoch 43/500\n",
      "158/158 [==============================] - 0s - loss: 5.7101e-04 - val_loss: 5.3825e-04\n",
      "Epoch 44/500\n",
      "158/158 [==============================] - ETA: 0s - loss: 5.0285e-0 - 0s - loss: 4.8297e-04 - val_loss: 3.3206e-04\n",
      "Epoch 45/500\n",
      "158/158 [==============================] - 0s - loss: 4.2094e-04 - val_loss: 4.0877e-04\n",
      "Epoch 46/500\n",
      "158/158 [==============================] - 0s - loss: 3.8945e-04 - val_loss: 3.3649e-04\n",
      "Epoch 47/500\n",
      "158/158 [==============================] - 0s - loss: 3.5552e-04 - val_loss: 2.4260e-04\n",
      "Epoch 48/500\n",
      "158/158 [==============================] - 0s - loss: 3.3875e-04 - val_loss: 3.0430e-04\n",
      "Epoch 49/500\n",
      "158/158 [==============================] - 0s - loss: 3.1868e-04 - val_loss: 2.6351e-04\n",
      "Epoch 50/500\n",
      "158/158 [==============================] - 0s - loss: 2.9157e-04 - val_loss: 3.6799e-04\n",
      "Epoch 51/500\n",
      "158/158 [==============================] - 0s - loss: 3.1543e-04 - val_loss: 3.9875e-04\n",
      "Epoch 52/500\n",
      "158/158 [==============================] - 0s - loss: 2.8530e-04 - val_loss: 1.7143e-04\n",
      "Epoch 53/500\n",
      "158/158 [==============================] - 0s - loss: 2.4209e-04 - val_loss: 1.6681e-04\n",
      "Epoch 54/500\n",
      "158/158 [==============================] - 0s - loss: 2.7479e-04 - val_loss: 2.6423e-04\n",
      "Epoch 55/500\n",
      "158/158 [==============================] - 0s - loss: 2.1217e-04 - val_loss: 1.1779e-04\n",
      "Epoch 56/500\n",
      "158/158 [==============================] - 0s - loss: 1.7710e-04 - val_loss: 1.0504e-04\n",
      "Epoch 57/500\n",
      "158/158 [==============================] - 0s - loss: 1.6182e-04 - val_loss: 1.0495e-04\n",
      "Epoch 58/500\n",
      "158/158 [==============================] - 0s - loss: 1.6137e-04 - val_loss: 1.2401e-04\n",
      "Epoch 59/500\n",
      "158/158 [==============================] - 0s - loss: 1.5259e-04 - val_loss: 1.5047e-04\n",
      "Epoch 60/500\n",
      "158/158 [==============================] - 0s - loss: 1.6809e-04 - val_loss: 2.7951e-04\n",
      "Epoch 61/500\n",
      "158/158 [==============================] - 0s - loss: 1.8332e-04 - val_loss: 6.4630e-05\n",
      "Epoch 62/500\n",
      "158/158 [==============================] - 0s - loss: 1.1718e-04 - val_loss: 9.0526e-05\n",
      "Epoch 63/500\n",
      "158/158 [==============================] - 0s - loss: 1.3474e-04 - val_loss: 9.5755e-05\n",
      "Epoch 64/500\n",
      "158/158 [==============================] - 0s - loss: 1.2701e-04 - val_loss: 8.1835e-05\n",
      "Epoch 65/500\n",
      "158/158 [==============================] - 0s - loss: 1.3246e-04 - val_loss: 4.3055e-05\n",
      "Epoch 66/500\n",
      "158/158 [==============================] - 0s - loss: 1.0102e-04 - val_loss: 5.2468e-05\n",
      "Epoch 67/500\n",
      "158/158 [==============================] - 0s - loss: 9.0587e-05 - val_loss: 5.3278e-05\n",
      "Epoch 68/500\n",
      "158/158 [==============================] - 0s - loss: 9.1282e-05 - val_loss: 5.4895e-05\n",
      "Epoch 69/500\n",
      "158/158 [==============================] - 0s - loss: 8.7372e-05 - val_loss: 4.3916e-05\n",
      "Epoch 70/500\n",
      "158/158 [==============================] - 0s - loss: 7.6771e-05 - val_loss: 6.3792e-05\n",
      "Epoch 71/500\n",
      "158/158 [==============================] - 0s - loss: 7.8965e-05 - val_loss: 3.9227e-05\n",
      "Epoch 72/500\n",
      "158/158 [==============================] - 0s - loss: 7.4637e-05 - val_loss: 8.1660e-05\n",
      "Epoch 73/500\n",
      "158/158 [==============================] - 0s - loss: 7.2540e-05 - val_loss: 6.2039e-05\n",
      "Epoch 74/500\n",
      "158/158 [==============================] - 0s - loss: 8.3717e-05 - val_loss: 1.2929e-04\n",
      "Epoch 75/500\n",
      "158/158 [==============================] - 0s - loss: 7.1298e-05 - val_loss: 5.2394e-05\n",
      "Epoch 76/500\n",
      "158/158 [==============================] - 0s - loss: 6.2834e-05 - val_loss: 7.8966e-05\n",
      "Epoch 77/500\n",
      "158/158 [==============================] - 0s - loss: 7.2812e-05 - val_loss: 6.5607e-05\n",
      "Epoch 78/500\n",
      "158/158 [==============================] - 0s - loss: 7.8432e-05 - val_loss: 6.6188e-05\n",
      "Epoch 79/500\n",
      "158/158 [==============================] - 0s - loss: 6.9854e-05 - val_loss: 5.0091e-05\n",
      "Epoch 80/500\n",
      "158/158 [==============================] - 0s - loss: 1.0524e-04 - val_loss: 1.0248e-04\n",
      "Epoch 81/500\n",
      "158/158 [==============================] - 0s - loss: 7.7203e-05 - val_loss: 3.5357e-05\n",
      "Epoch 82/500\n",
      "158/158 [==============================] - 0s - loss: 6.1141e-05 - val_loss: 6.1959e-05\n",
      "Epoch 83/500\n",
      "158/158 [==============================] - 0s - loss: 6.7808e-05 - val_loss: 1.7628e-04\n",
      "Epoch 84/500\n"
     ]
    },
    {
     "name": "stdout",
     "output_type": "stream",
     "text": [
      "158/158 [==============================] - 0s - loss: 1.4574e-04 - val_loss: 3.5202e-05\n",
      "Epoch 85/500\n",
      "158/158 [==============================] - 0s - loss: 8.3064e-05 - val_loss: 7.0584e-05\n",
      "Epoch 86/500\n",
      "158/158 [==============================] - 0s - loss: 6.2084e-05 - val_loss: 4.3937e-05\n",
      "Epoch 87/500\n",
      "158/158 [==============================] - 0s - loss: 4.8695e-05 - val_loss: 7.2691e-05\n",
      "Epoch 88/500\n",
      "158/158 [==============================] - 0s - loss: 5.5675e-05 - val_loss: 4.9804e-05\n",
      "Epoch 89/500\n",
      "158/158 [==============================] - 0s - loss: 5.4361e-05 - val_loss: 2.9574e-05\n",
      "Epoch 90/500\n",
      "158/158 [==============================] - 0s - loss: 4.4829e-05 - val_loss: 3.9873e-05\n",
      "Epoch 91/500\n",
      "158/158 [==============================] - 0s - loss: 5.6532e-05 - val_loss: 1.6416e-04\n",
      "Epoch 92/500\n",
      "158/158 [==============================] - 0s - loss: 8.5661e-05 - val_loss: 5.3704e-05\n",
      "Epoch 93/500\n",
      "158/158 [==============================] - 0s - loss: 7.0854e-05 - val_loss: 6.6061e-05\n",
      "Epoch 94/500\n",
      "158/158 [==============================] - 0s - loss: 9.2380e-05 - val_loss: 1.8446e-04\n",
      "Epoch 95/500\n",
      "158/158 [==============================] - 0s - loss: 1.6065e-04 - val_loss: 9.6065e-05\n",
      "Epoch 96/500\n",
      "158/158 [==============================] - 0s - loss: 1.0155e-04 - val_loss: 2.0521e-04\n",
      "Epoch 97/500\n",
      "158/158 [==============================] - 0s - loss: 2.0944e-04 - val_loss: 1.4330e-04\n",
      "Epoch 98/500\n",
      "158/158 [==============================] - 0s - loss: 9.7797e-05 - val_loss: 1.1034e-04\n",
      "Epoch 99/500\n",
      "158/158 [==============================] - 0s - loss: 9.1679e-05 - val_loss: 7.4948e-05\n",
      "Epoch 100/500\n",
      "158/158 [==============================] - 0s - loss: 7.3020e-05 - val_loss: 4.4742e-05\n",
      "Epoch 00099: early stopping\n"
     ]
    },
    {
     "data": {
      "text/plain": [
       "<keras.callbacks.History at 0x7f026b709f60>"
      ]
     },
     "execution_count": 21,
     "metadata": {},
     "output_type": "execute_result"
    }
   ],
   "source": [
    "model.fit(X_train, Y_train,\n",
    "          batch_size=batch_size,\n",
    "          epochs=epochs,\n",
    "          validation_data=(X_validation, Y_validation),\n",
    "          callbacks=[early_stopping])\n",
    "\n"
   ]
  },
  {
   "cell_type": "code",
   "execution_count": 47,
   "metadata": {
    "collapsed": true
   },
   "outputs": [],
   "source": [
    "truncate = maxlen\n",
    "Z = X[:1]"
   ]
  },
  {
   "cell_type": "code",
   "execution_count": 48,
   "metadata": {
    "collapsed": true
   },
   "outputs": [],
   "source": [
    "original = [f[i] for i in range(maxlen)]\n",
    "predicted = [None for i in range(maxlen)]"
   ]
  },
  {
   "cell_type": "code",
   "execution_count": 49,
   "metadata": {},
   "outputs": [],
   "source": [
    "for i in range(length_of_sequences - maxlen + 1):\n",
    "    z_ = Z[-1:]\n",
    "    y_ = model.predict(z_)\n",
    "    sequence_ = np.concatenate(\n",
    "        (z_.reshape(maxlen, n_in)[1:], y_),\n",
    "        axis=0).reshape(1, maxlen, n_in)\n",
    "    Z = np.append(Z, sequence_, axis=0)\n",
    "    predicted.append(y_.reshape(-1))\n"
   ]
  },
  {
   "cell_type": "code",
   "execution_count": 50,
   "metadata": {},
   "outputs": [
    {
     "data": {
      "image/png": "[encoded data removed]",
      "text/plain": [
       "<matplotlib.figure.Figure at 0x7f0251dbcba8>"
      ]
     },
     "metadata": {},
     "output_type": "display_data"
    }
   ],
   "source": [
    "plt.rc('font', family='serif')\n",
    "plt.figure()\n",
    "plt.ylim([-1.5, 1.5])\n",
    "plt.plot(toy_problem(T, ampl=0), linestyle='dotted', color='#aaaaaa')\n",
    "plt.plot(original, linestyle='dashed', color='black')\n",
    "plt.plot(predicted, color='black')\n",
    "plt.show()"
   ]
  },
  {
   "cell_type": "code",
   "execution_count": null,
   "metadata": {
    "collapsed": true
   },
   "outputs": [],
   "source": []
  }
 ],
 "metadata": {
  "kernelspec": {
   "display_name": "Python 3",
   "language": "python",
   "name": "python3"
  },
  "language_info": {
   "codemirror_mode": {
    "name": "ipython",
    "version": 3
   },
   "file_extension": ".py",
   "mimetype": "text/x-python",
   "name": "python",
   "nbconvert_exporter": "python",
   "pygments_lexer": "ipython3",
   "version": "3.5.2"
  }
 },
 "nbformat": 4,
 "nbformat_minor": 2
}

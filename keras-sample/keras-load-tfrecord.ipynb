{
 "cells": [
  {
   "cell_type": "code",
   "execution_count": 1,
   "metadata": {},
   "outputs": [
    {
     "name": "stderr",
     "output_type": "stream",
     "text": [
      "Using TensorFlow backend.\n"
     ]
    }
   ],
   "source": [
    "from keras.models import Model\n",
    "import tensorflow as tf\n",
    "from keras import backend as K\n",
    "from keras.layers import Dense, Input\n",
    "from keras.objectives import categorical_crossentropy\n",
    "from tensorflow.examples.tutorials.mnist import input_data\n",
    "\n",
    "sess = tf.Session()\n",
    "K.set_session(sess)\n",
    "\n"
   ]
  },
  {
   "cell_type": "code",
   "execution_count": 2,
   "metadata": {},
   "outputs": [],
   "source": [
    "def read_and_decode(filename, one_hot=True, n_class=None, is_train=None):\n",
    "    filename_queue = tf.train.string_input_producer([\"filename\"])\n",
    "    reader = tf.TFRecordReader()\n",
    "    _, serialized_example = reader.read(filename_queue)\n",
    "    features = tf.parse_single_example(serialized_example,\n",
    "                                       features={\n",
    "                                           'label': tf.FixedLenFeature([], tf.int64),\n",
    "                                           'image_raw' : tf.FixedLenFeature([], tf.string),\n",
    "                                       })\n",
    "    # You can do more image distortion here for training data\n",
    "    img = tf.decode_raw(features['image_raw'], tf.uint8)\n",
    "    img.set_shape([28*28])\n",
    "    img = tf.reshape(img, [28, 28, 1])\n",
    "\n",
    "    img = tf.cast(img, tf.float32) * (1. / 255) - 0.5\n",
    "    # img = tf.cast(img, tf.float32) * (1. / 255)\n",
    "\n",
    "\n",
    "    label = tf.cast(features['label'], tf.int32)\n",
    "    if one_hot and n_class:\n",
    "        label = tf.one_hot(label,n_class)\n",
    "\n",
    "    return img, label\n"
   ]
  },
  {
   "cell_type": "code",
   "execution_count": 3,
   "metadata": {},
   "outputs": [],
   "source": [
    "x_train_, y_train_ = read_and_decode('data-00.tfrecords', one_hot=True, n_class=None, is_train=True)\n"
   ]
  },
  {
   "cell_type": "code",
   "execution_count": null,
   "metadata": {
    "collapsed": true
   },
   "outputs": [],
   "source": []
  }
 ],
 "metadata": {
  "kernelspec": {
   "display_name": "Python 3",
   "language": "python",
   "name": "python3"
  },
  "language_info": {
   "codemirror_mode": {
    "name": "ipython",
    "version": 3
   },
   "file_extension": ".py",
   "mimetype": "text/x-python",
   "name": "python",
   "nbconvert_exporter": "python",
   "pygments_lexer": "ipython3",
   "version": "3.5.2"
  }
 },
 "nbformat": 4,
 "nbformat_minor": 2
}

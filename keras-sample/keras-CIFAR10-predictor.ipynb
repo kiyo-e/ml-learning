{
 "cells": [
  {
   "cell_type": "markdown",
   "metadata": {},
   "source": [
    "## KerasによるCIFAR10のモデルからの予測\n",
    "保存したモデルから結果を予測する"
   ]
  },
  {
   "cell_type": "code",
   "execution_count": 1,
   "metadata": {},
   "outputs": [
    {
     "name": "stderr",
     "output_type": "stream",
     "text": [
      "Using TensorFlow backend.\n"
     ]
    }
   ],
   "source": [
    "from __future__ import print_function\n",
    "import keras\n",
    "from keras.datasets import cifar10\n",
    "from keras.models import load_model\n",
    "from keras.models import Sequential\n",
    "from keras.layers import Dense, Dropout, Flatten\n",
    "from keras.layers import Conv2D, MaxPooling2D\n",
    "from skimage import io\n",
    "\n",
    "\n",
    "\n",
    "\n",
    "from PIL import Image\n",
    "\n",
    "import numpy as np\n",
    "# import scipy\n",
    "import matplotlib.pyplot as plt\n",
    "import matplotlib.image as mpimg\n",
    "import scipy.misc\n",
    "\n"
   ]
  },
  {
   "cell_type": "code",
   "execution_count": 2,
   "metadata": {},
   "outputs": [],
   "source": [
    "model = load_model(\"cifar10.h5\")\n",
    "\n",
    "model.compile(loss=keras.losses.categorical_crossentropy,\n",
    "             optimizer=keras.optimizers.Adadelta(),\n",
    "             metrics=[\"accuracy\"])"
   ]
  },
  {
   "cell_type": "code",
   "execution_count": 3,
   "metadata": {
    "collapsed": true
   },
   "outputs": [],
   "source": [
    "batch_size = 128\n",
    "num_classes = 10\n",
    "epochs = 12"
   ]
  },
  {
   "cell_type": "code",
   "execution_count": 4,
   "metadata": {
    "collapsed": true
   },
   "outputs": [],
   "source": [
    "labels = ['airplane',\n",
    " 'automobile',\n",
    " 'bird',\n",
    " 'cat',\n",
    " 'deer',\n",
    " 'dog',\n",
    " 'frog',\n",
    " 'horse',\n",
    " 'ship',\n",
    " 'truck']"
   ]
  },
  {
   "cell_type": "code",
   "execution_count": 5,
   "metadata": {},
   "outputs": [],
   "source": [
    "img_rows, img_cols = 32, 32\n",
    "\n",
    "(x_train, y_train), (x_test, y_test) = cifar10.load_data()\n"
   ]
  },
  {
   "cell_type": "code",
   "execution_count": 6,
   "metadata": {},
   "outputs": [
    {
     "name": "stdout",
     "output_type": "stream",
     "text": [
      "1/1 [==============================] - 0s\n"
     ]
    }
   ],
   "source": [
    "X = []\n",
    "\n",
    "\n",
    "img = Image.open('tucano.jpg')\n",
    "img = img.convert(\"RGB\")\n",
    "img = img.resize((32, 32), Image.ANTIALIAS)\n",
    "\n",
    "in_data = np.asarray(img)\n",
    "X.append(in_data)\n",
    "\n",
    "\n",
    "\n",
    "X = np.array(X)\n",
    "\n",
    "\n",
    "classes = model.predict_classes(X)\n",
    "\n",
    "\n"
   ]
  },
  {
   "cell_type": "code",
   "execution_count": 7,
   "metadata": {},
   "outputs": [
    {
     "name": "stdout",
     "output_type": "stream",
     "text": [
      "[0]\n"
     ]
    }
   ],
   "source": [
    "print(classes)"
   ]
  },
  {
   "cell_type": "code",
   "execution_count": 8,
   "metadata": {},
   "outputs": [
    {
     "name": "stdout",
     "output_type": "stream",
     "text": [
      "0\n"
     ]
    }
   ],
   "source": [
    "print(classes[0])"
   ]
  },
  {
   "cell_type": "code",
   "execution_count": 9,
   "metadata": {},
   "outputs": [
    {
     "name": "stdout",
     "output_type": "stream",
     "text": [
      "[[3]\n",
      " [8]\n",
      " [8]\n",
      " ..., \n",
      " [5]\n",
      " [1]\n",
      " [7]]\n"
     ]
    }
   ],
   "source": [
    "print(y_test)"
   ]
  },
  {
   "cell_type": "code",
   "execution_count": 10,
   "metadata": {},
   "outputs": [
    {
     "name": "stdout",
     "output_type": "stream",
     "text": [
      "airplane\n"
     ]
    }
   ],
   "source": [
    "print(labels[classes[0]])"
   ]
  },
  {
   "cell_type": "code",
   "execution_count": 11,
   "metadata": {},
   "outputs": [
    {
     "name": "stdout",
     "output_type": "stream",
     "text": [
      "1/1 [==============================] - 0s\n",
      "[9]\n",
      "truck\n"
     ]
    }
   ],
   "source": [
    "\n",
    "X = []\n",
    "\n",
    "\n",
    "img = Image.open('20161018-01.jpg')\n",
    "img = img.convert(\"RGB\")\n",
    "img = img.resize((32, 32), Image.ANTIALIAS)\n",
    "\n",
    "in_data = np.asarray(img)\n",
    "X.append(in_data)\n",
    "\n",
    "\n",
    "\n",
    "X = np.array(X)\n",
    "\n",
    "\n",
    "classes = model.predict_classes(X)\n",
    "\n",
    "\n",
    "\n",
    "print(classes)\n",
    "print(labels[classes[0]])"
   ]
  },
  {
   "cell_type": "code",
   "execution_count": 12,
   "metadata": {},
   "outputs": [
    {
     "name": "stdout",
     "output_type": "stream",
     "text": [
      "1/1 [==============================] - 0s\n",
      "[7]\n",
      "horse\n"
     ]
    }
   ],
   "source": [
    "X = []\n",
    "\n",
    "\n",
    "img = Image.open('el.jpg')\n",
    "img = img.convert(\"RGB\")\n",
    "img = img.resize((32, 32), Image.ANTIALIAS)\n",
    "\n",
    "in_data = np.asarray(img)\n",
    "X.append(in_data)\n",
    "\n",
    "\n",
    "\n",
    "X = np.array(X)\n",
    "\n",
    "\n",
    "classes = model.predict_classes(X)\n",
    "\n",
    "\n",
    "\n",
    "print(classes)\n",
    "print(labels[classes[0]])"
   ]
  },
  {
   "cell_type": "code",
   "execution_count": 13,
   "metadata": {},
   "outputs": [
    {
     "name": "stdout",
     "output_type": "stream",
     "text": [
      "1/1 [==============================] - 0s\n",
      "[3]\n",
      "cat\n"
     ]
    }
   ],
   "source": [
    "X = []\n",
    "\n",
    "\n",
    "img = Image.open('el2.jpg')\n",
    "img = img.convert(\"RGB\")\n",
    "img = img.resize((32, 32))\n",
    "\n",
    "in_data = np.asarray(img)\n",
    "X.append(in_data)\n",
    "\n",
    "\n",
    "\n",
    "X = np.array(X)\n",
    "\n",
    "\n",
    "classes = model.predict_classes(X)\n",
    "\n",
    "\n",
    "\n",
    "print(classes)\n",
    "print(labels[classes[0]])"
   ]
  },
  {
   "cell_type": "code",
   "execution_count": 14,
   "metadata": {},
   "outputs": [
    {
     "name": "stdout",
     "output_type": "stream",
     "text": [
      "[[6]\n",
      " [9]\n",
      " [9]\n",
      " ..., \n",
      " [9]\n",
      " [1]\n",
      " [1]]\n",
      "[[ 59  62  63]\n",
      " [ 43  46  45]\n",
      " [ 50  48  43]\n",
      " [ 68  54  42]\n",
      " [ 98  73  52]\n",
      " [119  91  63]\n",
      " [139 107  75]\n",
      " [145 110  80]\n",
      " [149 117  89]\n",
      " [149 120  93]\n",
      " [131 103  77]\n",
      " [125  99  76]\n",
      " [142 115  91]\n",
      " [144 112  86]\n",
      " [137 105  79]\n",
      " [129  97  71]\n",
      " [137 106  79]\n",
      " [134 106  76]\n",
      " [124  97  64]\n",
      " [139 113  78]\n",
      " [139 112  75]\n",
      " [133 105  69]\n",
      " [136 105  74]\n",
      " [139 108  77]\n",
      " [152 120  89]\n",
      " [163 131 100]\n",
      " [168 136 108]\n",
      " [159 129 102]\n",
      " [158 130 104]\n",
      " [158 132 108]\n",
      " [152 125 102]\n",
      " [148 124 103]]\n"
     ]
    }
   ],
   "source": [
    "print(y_train)\n",
    "print(x_train[0][0])"
   ]
  },
  {
   "cell_type": "code",
   "execution_count": 20,
   "metadata": {},
   "outputs": [
    {
     "data": {
      "image/png": "[encoded data removed]",
      "text/plain": [
       "<matplotlib.figure.Figure at 0x7f6ec67954a8>"
      ]
     },
     "metadata": {},
     "output_type": "display_data"
    },
    {
     "name": "stdout",
     "output_type": "stream",
     "text": [
      "6\n",
      "frog\n"
     ]
    }
   ],
   "source": [
    "img0 = x_train[0]\n",
    "img0 = img0.reshape((3,32,32))\n",
    "img1 = np.rollaxis(img0, 0, 3)\n",
    "\n",
    "io.imshow(img1)\n",
    "io.show()\n",
    "\n",
    "print(y_train[0][0])\n",
    "print(labels[y_train[0][0]])"
   ]
  },
  {
   "cell_type": "code",
   "execution_count": 21,
   "metadata": {},
   "outputs": [
    {
     "data": {
      "image/png": "[encoded data removed]",
      "text/plain": [
       "<matplotlib.figure.Figure at 0x7f6ec6748b00>"
      ]
     },
     "metadata": {},
     "output_type": "display_data"
    },
    {
     "name": "stdout",
     "output_type": "stream",
     "text": [
      "9\n",
      "truck\n"
     ]
    }
   ],
   "source": [
    "img0 = x_train[1]\n",
    "img0 = img0.reshape((3,32,32))\n",
    "img1 = np.rollaxis(img0, 0, 3)\n",
    "\n",
    "io.imshow(img1)\n",
    "io.show()\n",
    "\n",
    "print(y_train[1][0])\n",
    "print(labels[y_train[1][0]])"
   ]
  },
  {
   "cell_type": "code",
   "execution_count": 22,
   "metadata": {},
   "outputs": [
    {
     "data": {
      "image/png": "[encoded data removed]",
      "text/plain": [
       "<matplotlib.figure.Figure at 0x7f6ec66f1e10>"
      ]
     },
     "metadata": {},
     "output_type": "display_data"
    },
    {
     "name": "stdout",
     "output_type": "stream",
     "text": [
      "9\n",
      "truck\n"
     ]
    }
   ],
   "source": [
    "img0 = x_train[2]\n",
    "img0 = img0.reshape((3,32,32))\n",
    "img1 = np.rollaxis(img0, 0, 3)\n",
    "\n",
    "io.imshow(img1)\n",
    "io.show()\n",
    "\n",
    "print(y_train[2][0])\n",
    "print(labels[y_train[2][0]])"
   ]
  },
  {
   "cell_type": "code",
   "execution_count": null,
   "metadata": {
    "collapsed": true
   },
   "outputs": [],
   "source": []
  },
  {
   "cell_type": "code",
   "execution_count": null,
   "metadata": {
    "collapsed": true
   },
   "outputs": [],
   "source": []
  }
 ],
 "metadata": {
  "kernelspec": {
   "display_name": "Python 3",
   "language": "python",
   "name": "python3"
  },
  "language_info": {
   "codemirror_mode": {
    "name": "ipython",
    "version": 3
   },
   "file_extension": ".py",
   "mimetype": "text/x-python",
   "name": "python",
   "nbconvert_exporter": "python",
   "pygments_lexer": "ipython3",
   "version": "3.5.2"
  }
 },
 "nbformat": 4,
 "nbformat_minor": 2
}

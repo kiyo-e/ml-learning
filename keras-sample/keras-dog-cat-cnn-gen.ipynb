{
 "cells": [
  {
   "cell_type": "markdown",
   "metadata": {},
   "source": [
    "## Kerasによるdog cat判定実装\n",
    "cnnを使ってdog、cat判定をさせる\n",
    "データ元は、[kaggle](https://www.kaggle.com/c/dogs-vs-cats-redux-kernels-edition)。\n",
    "\n",
    "\n",
    "ローカルの画像データをgeneratorを使って、学習させる練習\n"
   ]
  },
  {
   "cell_type": "code",
   "execution_count": 1,
   "metadata": {},
   "outputs": [
    {
     "name": "stderr",
     "output_type": "stream",
     "text": [
      "Using TensorFlow backend.\n"
     ]
    }
   ],
   "source": [
    "from __future__ import print_function\n",
    "import keras\n",
    "\n",
    "from keras.models import Sequential\n",
    "from keras.layers import Dense, Dropout, Flatten\n",
    "from keras.layers import Conv2D, MaxPooling2D\n",
    "from keras.preprocessing.image import ImageDataGenerator\n",
    "\n",
    "\n"
   ]
  },
  {
   "cell_type": "code",
   "execution_count": 2,
   "metadata": {
    "collapsed": true
   },
   "outputs": [],
   "source": [
    "epochs = 12\n",
    "img_rows, img_cols = 32, 32\n",
    "\n",
    "input_shape = (img_rows, img_cols, 3)"
   ]
  },
  {
   "cell_type": "code",
   "execution_count": 3,
   "metadata": {},
   "outputs": [
    {
     "name": "stdout",
     "output_type": "stream",
     "text": [
      "Found 1820 images belonging to 2 classes.\n",
      "Found 1849 images belonging to 2 classes.\n"
     ]
    }
   ],
   "source": [
    "train_datagen = ImageDataGenerator(\n",
    "        rescale=1./255,\n",
    "        shear_range=0.2,\n",
    "        zoom_range=0.2,\n",
    "        horizontal_flip=True)\n",
    "\n",
    "test_datagen = ImageDataGenerator(rescale=1./255)\n",
    "\n",
    "train_generator = train_datagen.flow_from_directory(\n",
    "        'train',\n",
    "        target_size=(32, 32),\n",
    "        batch_size=32,\n",
    "        class_mode='categorical')\n",
    "\n",
    "validation_generator = test_datagen.flow_from_directory(\n",
    "        'valid',\n",
    "        target_size=(32, 32),\n",
    "        batch_size=32,\n",
    "        class_mode='categorical')\n",
    "\n",
    "\n"
   ]
  },
  {
   "cell_type": "code",
   "execution_count": 4,
   "metadata": {},
   "outputs": [],
   "source": [
    "model = Sequential()\n",
    "model.add(Conv2D(32, kernel_size=(3, 3),\n",
    "                 activation='relu',\n",
    "                 input_shape=input_shape))\n",
    "model.add(Conv2D(64, (3, 3), activation=\"relu\"))\n",
    "model.add(MaxPooling2D(pool_size=(2, 2)))\n",
    "model.add(Dropout(0.25))\n",
    "\n",
    "model.add(Flatten())\n",
    "model.add(Dense(128, activation=\"relu\"))\n",
    "model.add(Dropout(0.5))\n",
    "model.add(Dense(2, activation=\"softmax\"))"
   ]
  },
  {
   "cell_type": "code",
   "execution_count": 5,
   "metadata": {
    "collapsed": true
   },
   "outputs": [],
   "source": [
    "model.compile(loss=keras.losses.categorical_crossentropy,\n",
    "             optimizer=keras.optimizers.Adadelta(),\n",
    "             metrics=[\"accuracy\"])"
   ]
  },
  {
   "cell_type": "code",
   "execution_count": 6,
   "metadata": {},
   "outputs": [
    {
     "name": "stdout",
     "output_type": "stream",
     "text": [
      "Epoch 1/12\n",
      "800/800 [==============================] - 462s - loss: 0.5921 - acc: 0.6809 - val_loss: 0.6263 - val_acc: 0.6718\n",
      "Epoch 2/12\n",
      "800/800 [==============================] - 372s - loss: 0.4754 - acc: 0.7805 - val_loss: 0.5164 - val_acc: 0.7582\n",
      "Epoch 3/12\n",
      "800/800 [==============================] - 356s - loss: 0.4125 - acc: 0.8144 - val_loss: 0.6666 - val_acc: 0.6963\n",
      "Epoch 4/12\n",
      "800/800 [==============================] - 421s - loss: 0.3603 - acc: 0.8422 - val_loss: 0.5311 - val_acc: 0.7593\n",
      "Epoch 5/12\n",
      "800/800 [==============================] - 801s - loss: 0.3070 - acc: 0.8705 - val_loss: 0.6308 - val_acc: 0.7346\n",
      "Epoch 6/12\n",
      "800/800 [==============================] - 396s - loss: 0.2684 - acc: 0.8889 - val_loss: 0.6061 - val_acc: 0.7485\n",
      "Epoch 7/12\n",
      "800/800 [==============================] - 459s - loss: 0.2303 - acc: 0.9074 - val_loss: 0.8526 - val_acc: 0.7140\n",
      "Epoch 8/12\n",
      "800/800 [==============================] - 418s - loss: 0.1965 - acc: 0.9229 - val_loss: 0.7335 - val_acc: 0.7485\n",
      "Epoch 9/12\n",
      "800/800 [==============================] - 418s - loss: 0.1789 - acc: 0.9320 - val_loss: 0.7966 - val_acc: 0.7363\n",
      "Epoch 10/12\n",
      "800/800 [==============================] - 448s - loss: 0.1590 - acc: 0.9397 - val_loss: 0.6678 - val_acc: 0.7588\n",
      "Epoch 11/12\n",
      "800/800 [==============================] - 421s - loss: 0.1419 - acc: 0.9476 - val_loss: 0.7775 - val_acc: 0.7591\n",
      "Epoch 12/12\n",
      "800/800 [==============================] - 382s - loss: 0.1296 - acc: 0.9520 - val_loss: 0.7525 - val_acc: 0.7429\n"
     ]
    },
    {
     "data": {
      "text/plain": [
       "<keras.callbacks.History at 0x7fbc07626490>"
      ]
     },
     "execution_count": 6,
     "metadata": {},
     "output_type": "execute_result"
    }
   ],
   "source": [
    "model.fit_generator(\n",
    "        train_generator,\n",
    "        steps_per_epoch=800,\n",
    "        epochs=epochs,\n",
    "        validation_data=validation_generator,\n",
    "        validation_steps=300)\n",
    "\n"
   ]
  },
  {
   "cell_type": "code",
   "execution_count": 9,
   "metadata": {},
   "outputs": [
    {
     "name": "stdout",
     "output_type": "stream",
     "text": [
      "Found 20 images belonging to 2 classes.\n"
     ]
    }
   ],
   "source": [
    "test_generator = test_datagen.flow_from_directory(\n",
    "        'test',\n",
    "        target_size=(32, 32),\n",
    "        batch_size=32,\n",
    "        class_mode='categorical')\n",
    "\n",
    "\n"
   ]
  },
  {
   "cell_type": "code",
   "execution_count": 12,
   "metadata": {},
   "outputs": [
    {
     "name": "stdout",
     "output_type": "stream",
     "text": [
      "Test loss: 0.359149090946\n",
      "Test accuracy: 0.800000011921\n"
     ]
    }
   ],
   "source": [
    "score = model.evaluate_generator(test_generator, 20)\n",
    "\n",
    "print(\"Test loss:\", score[0])\n",
    "print(\"Test accuracy:\", score[1])"
   ]
  },
  {
   "cell_type": "code",
   "execution_count": null,
   "metadata": {
    "collapsed": true
   },
   "outputs": [],
   "source": []
  },
  {
   "cell_type": "code",
   "execution_count": null,
   "metadata": {
    "collapsed": true
   },
   "outputs": [],
   "source": []
  }
 ],
 "metadata": {
  "kernelspec": {
   "display_name": "Python 2",
   "language": "python",
   "name": "python2"
  },
  "language_info": {
   "codemirror_mode": {
    "name": "ipython",
    "version": 2
   },
   "file_extension": ".py",
   "mimetype": "text/x-python",
   "name": "python",
   "nbconvert_exporter": "python",
   "pygments_lexer": "ipython2",
   "version": "2.7.12"
  }
 },
 "nbformat": 4,
 "nbformat_minor": 2
}
